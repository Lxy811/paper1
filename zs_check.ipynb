{
 "cells": [
  {
   "cell_type": "code",
   "execution_count": 2,
   "id": "683c7009",
   "metadata": {},
   "outputs": [],
   "source": [
    "import warnings\n",
    "warnings.filterwarnings(\"ignore\")\n",
    "\n",
    "import os\n",
    "import copy\n",
    "import torch\n",
    "import h5py\n",
    "import numpy as np\n",
    "import seaborn as sns\n",
    "from tqdm import tqdm\n",
    "from collections import defaultdict, Counter\n",
    "import matplotlib.pyplot as plt\n",
    "from maskrcnn_benchmark.data.datasets.visual_genome import load_graphs, load_info\n",
    "from maskrcnn_benchmark.modeling.roi_heads.relation_head.utils_motifs import obj_edge_vectors\n",
    "from maskrcnn_benchmark.data.datasets.visual_genome import VGDataset\n",
    "%matplotlib inline"
   ]
  },
  {
   "cell_type": "code",
   "execution_count": 3,
   "id": "3af0b543",
   "metadata": {},
   "outputs": [
    {
     "ename": "FileNotFoundError",
     "evalue": "[Errno 2] No such file or directory: '/irip/lijiankai_2020/dataset/vg/VG-SGG-dicts-with-attri.json'",
     "output_type": "error",
     "traceback": [
      "\u001b[0;31m---------------------------------------------------------------------------\u001b[0m",
      "\u001b[0;31mFileNotFoundError\u001b[0m                         Traceback (most recent call last)",
      "\u001b[0;32m/tmp/ipykernel_3921607/3531834071.py\u001b[0m in \u001b[0;36m<module>\u001b[0;34m\u001b[0m\n\u001b[1;32m     11\u001b[0m \u001b[0mroidb_file\u001b[0m \u001b[0;34m=\u001b[0m \u001b[0mos\u001b[0m\u001b[0;34m.\u001b[0m\u001b[0mpath\u001b[0m\u001b[0;34m.\u001b[0m\u001b[0mjoin\u001b[0m\u001b[0;34m(\u001b[0m\u001b[0mpath\u001b[0m\u001b[0;34m,\u001b[0m \u001b[0;34m\"VG-SGG-with-attri.h5\"\u001b[0m\u001b[0;34m)\u001b[0m\u001b[0;34m\u001b[0m\u001b[0;34m\u001b[0m\u001b[0m\n\u001b[1;32m     12\u001b[0m \u001b[0mdict_file\u001b[0m \u001b[0;34m=\u001b[0m \u001b[0mos\u001b[0m\u001b[0;34m.\u001b[0m\u001b[0mpath\u001b[0m\u001b[0;34m.\u001b[0m\u001b[0mjoin\u001b[0m\u001b[0;34m(\u001b[0m\u001b[0mpath\u001b[0m\u001b[0;34m,\u001b[0m \u001b[0;34m\"VG-SGG-dicts-with-attri.json\"\u001b[0m\u001b[0;34m)\u001b[0m\u001b[0;34m\u001b[0m\u001b[0;34m\u001b[0m\u001b[0m\n\u001b[0;32m---> 13\u001b[0;31m \u001b[0mind_to_classes\u001b[0m\u001b[0;34m,\u001b[0m \u001b[0mind_to_predicates\u001b[0m\u001b[0;34m,\u001b[0m \u001b[0mind_to_attributes\u001b[0m \u001b[0;34m=\u001b[0m \u001b[0mload_info\u001b[0m\u001b[0;34m(\u001b[0m\u001b[0mdict_file\u001b[0m\u001b[0;34m)\u001b[0m\u001b[0;34m\u001b[0m\u001b[0;34m\u001b[0m\u001b[0m\n\u001b[0m\u001b[1;32m     14\u001b[0m \u001b[0mrel_categories\u001b[0m \u001b[0;34m=\u001b[0m \u001b[0;34m{\u001b[0m\u001b[0mindex\u001b[0m\u001b[0;34m:\u001b[0m \u001b[0mpd\u001b[0m \u001b[0;32mfor\u001b[0m \u001b[0mindex\u001b[0m\u001b[0;34m,\u001b[0m \u001b[0mpd\u001b[0m \u001b[0;32min\u001b[0m \u001b[0menumerate\u001b[0m\u001b[0;34m(\u001b[0m\u001b[0mind_to_predicates\u001b[0m\u001b[0;34m)\u001b[0m\u001b[0;34m}\u001b[0m\u001b[0;34m\u001b[0m\u001b[0;34m\u001b[0m\u001b[0m\n\u001b[1;32m     15\u001b[0m \u001b[0mobj_categories\u001b[0m \u001b[0;34m=\u001b[0m \u001b[0;34m{\u001b[0m\u001b[0mindex\u001b[0m\u001b[0;34m:\u001b[0m \u001b[0mpd\u001b[0m \u001b[0;32mfor\u001b[0m \u001b[0mindex\u001b[0m\u001b[0;34m,\u001b[0m \u001b[0mpd\u001b[0m \u001b[0;32min\u001b[0m \u001b[0menumerate\u001b[0m\u001b[0;34m(\u001b[0m\u001b[0mind_to_classes\u001b[0m\u001b[0;34m)\u001b[0m\u001b[0;34m}\u001b[0m\u001b[0;34m\u001b[0m\u001b[0;34m\u001b[0m\u001b[0m\n",
      "\u001b[0;32m/media/n702/data1/Lxy/T-CAR/maskrcnn_benchmark/data/datasets/visual_genome.py\u001b[0m in \u001b[0;36mload_info\u001b[0;34m(dict_file, add_bg)\u001b[0m\n\u001b[1;32m    379\u001b[0m     \u001b[0mLoads\u001b[0m \u001b[0mthe\u001b[0m \u001b[0mfile\u001b[0m \u001b[0mcontaining\u001b[0m \u001b[0mthe\u001b[0m \u001b[0mvisual\u001b[0m \u001b[0mgenome\u001b[0m \u001b[0mlabel\u001b[0m \u001b[0mmeanings\u001b[0m\u001b[0;34m\u001b[0m\u001b[0;34m\u001b[0m\u001b[0m\n\u001b[1;32m    380\u001b[0m     \"\"\"\n\u001b[0;32m--> 381\u001b[0;31m     \u001b[0minfo\u001b[0m \u001b[0;34m=\u001b[0m \u001b[0mjson\u001b[0m\u001b[0;34m.\u001b[0m\u001b[0mload\u001b[0m\u001b[0;34m(\u001b[0m\u001b[0mopen\u001b[0m\u001b[0;34m(\u001b[0m\u001b[0mdict_file\u001b[0m\u001b[0;34m,\u001b[0m \u001b[0;34m'r'\u001b[0m\u001b[0;34m)\u001b[0m\u001b[0;34m)\u001b[0m\u001b[0;34m\u001b[0m\u001b[0;34m\u001b[0m\u001b[0m\n\u001b[0m\u001b[1;32m    382\u001b[0m     \u001b[0;32mif\u001b[0m \u001b[0madd_bg\u001b[0m\u001b[0;34m:\u001b[0m\u001b[0;34m\u001b[0m\u001b[0;34m\u001b[0m\u001b[0m\n\u001b[1;32m    383\u001b[0m         \u001b[0minfo\u001b[0m\u001b[0;34m[\u001b[0m\u001b[0;34m'label_to_idx'\u001b[0m\u001b[0;34m]\u001b[0m\u001b[0;34m[\u001b[0m\u001b[0;34m'__background__'\u001b[0m\u001b[0;34m]\u001b[0m \u001b[0;34m=\u001b[0m \u001b[0;36m0\u001b[0m\u001b[0;34m\u001b[0m\u001b[0;34m\u001b[0m\u001b[0m\n",
      "\u001b[0;31mFileNotFoundError\u001b[0m: [Errno 2] No such file or directory: '/irip/lijiankai_2020/dataset/vg/VG-SGG-dicts-with-attri.json'"
     ]
    }
   ],
   "source": [
    "def convert_obj_class(obj_classes, rel):\n",
    "    for index, (i_gt_class, i_relationships) in enumerate(zip(obj_classes, rel)):\n",
    "        for index_rel in range(len(i_relationships)):\n",
    "            i_relationships[index_rel, 0] = i_gt_class[i_relationships[index_rel, 0]]\n",
    "            i_relationships[index_rel, 1] = i_gt_class[i_relationships[index_rel, 1]]\n",
    "        rel[index] = i_relationships\n",
    "    return rel\n",
    "\n",
    "# data path\n",
    "path = '/irip/lijiankai_2020/dataset/vg'\n",
    "roidb_file = os.path.join(path, \"VG-SGG-with-attri.h5\")\n",
    "dict_file = os.path.join(path, \"VG-SGG-dicts-with-attri.json\")\n",
    "ind_to_classes, ind_to_predicates, ind_to_attributes = load_info(dict_file)\n",
    "rel_categories = {index: pd for index, pd in enumerate(ind_to_predicates)}\n",
    "obj_categories = {index: pd for index, pd in enumerate(ind_to_classes)}\n",
    "\n",
    "_, train_gt_boxes, train_gt_classes, _, train_relationships = load_graphs(\n",
    "    roidb_file, split=\"train\", num_im=-1, num_val_im=5000,\n",
    "    filter_empty_rels=True, filter_non_overlap=False\n",
    ")\n",
    "\n",
    "_, _, test_gt_classes, _, test_relations = load_graphs(\n",
    "    roidb_file, split=\"test\", num_im=-1, num_val_im=5000,\n",
    "    filter_empty_rels=True, filter_non_overlap=False\n",
    ")\n",
    "\n",
    "# mapper entity labels\n",
    "test_triplets = convert_obj_class(test_gt_classes, test_relations)\n",
    "train_triplets = convert_obj_class(train_gt_classes, train_relationships)\n",
    "\n",
    "\n",
    "train_triplets = np.concatenate(np.array(train_triplets), axis=0)\n",
    "test_triplets = np.concatenate(np.array(test_triplets), axis=0)\n",
    "train_triplet_set = set()\n",
    "test_triplet_set = set()\n",
    "\n",
    "\n",
    "for i in range(len(train_triplets)):\n",
    "    item = train_triplets[i]\n",
    "    train_triplet_set.add((item[0], item[1], item[2]))\n",
    "\n",
    "for i in range(len(test_triplets)):\n",
    "    item = test_triplets[i]\n",
    "    test_triplet_set.add((item[0], item[1], item[2]))"
   ]
  },
  {
   "cell_type": "code",
   "execution_count": 3,
   "id": "b13f33d2",
   "metadata": {},
   "outputs": [
    {
     "name": "stdout",
     "output_type": "stream",
     "text": [
      "29283 17659 5426\n"
     ]
    }
   ],
   "source": [
    "zs_set = test_triplet_set.difference(train_triplet_set)\n",
    "print(len(train_triplet_set), len(test_triplet_set), len(zs_set))"
   ]
  },
  {
   "cell_type": "code",
   "execution_count": 4,
   "id": "9f63a468",
   "metadata": {},
   "outputs": [
    {
     "name": "stdout",
     "output_type": "stream",
     "text": [
      "5971 5426 5971 545\n"
     ]
    }
   ],
   "source": [
    "# zeroshot file in https://github.com/KaihuaTang/Scene-Graph-Benchmark.pytorch\n",
    "zs_prior_path = \"/irip/lijiankai_2020/databackup114/Ready/maskrcnn_benchmark/data/datasets/evaluation/vg/zeroshot_triplet.pytorch\"\n",
    "zs_prior_data =  torch.load(zs_prior_path).long().numpy()\n",
    "\n",
    "zs_prior_set = set()\n",
    "for i in range(len(zs_prior_data)):\n",
    "    item = zs_prior_data[i]\n",
    "    zs_prior_set.add((item[0], item[1], item[2]))\n",
    "\n",
    "inter_set = zs_prior_set.intersection(zs_set)\n",
    "union_set = zs_prior_set.union(zs_set)\n",
    "train_inter_set = zs_prior_set.intersection(train_triplet_set)\n",
    "print(len(zs_prior_set), len(inter_set), len(union_set), len(train_inter_set))"
   ]
  },
  {
   "cell_type": "code",
   "execution_count": 5,
   "id": "c7793a9b",
   "metadata": {},
   "outputs": [
    {
     "name": "stdout",
     "output_type": "stream",
     "text": [
      "5971 5426 5426 0\n"
     ]
    }
   ],
   "source": [
    "# zeroshot file in tcar test\n",
    "zs_tcar_path = \"/irip/lijiankai_2020/tcar/Scene-Graph-Benchmark.pytorch/zeroshot_triplet_new.pytorch\"\n",
    "zs_tcar_data =  torch.load(zs_tcar_path).long().numpy()\n",
    "zs_tcar_set = set()\n",
    "for i in range(len(zs_tcar_data)):\n",
    "    item = zs_tcar_data[i]\n",
    "    zs_tcar_set.add((item[0], item[1], item[2]))\n",
    "\n",
    "inter_set = zs_tcar_set.intersection(zs_set)\n",
    "union_set = zs_tcar_set.union(zs_set)\n",
    "train_inter_set = zs_tcar_set.intersection(train_triplet_set)\n",
    "print(len(zs_prior_set), len(inter_set), len(union_set), len(train_inter_set))"
   ]
  },
  {
   "cell_type": "code",
   "execution_count": null,
   "id": "c8d1b14c",
   "metadata": {},
   "outputs": [],
   "source": []
  }
 ],
 "metadata": {
  "kernelspec": {
   "display_name": "tcar",
   "language": "python",
   "name": "python3"
  },
  "language_info": {
   "codemirror_mode": {
    "name": "ipython",
    "version": 3
   },
   "file_extension": ".py",
   "mimetype": "text/x-python",
   "name": "python",
   "nbconvert_exporter": "python",
   "pygments_lexer": "ipython3",
   "version": "3.7.16"
  }
 },
 "nbformat": 4,
 "nbformat_minor": 5
}
